{
  "nbformat": 4,
  "nbformat_minor": 0,
  "metadata": {
    "colab": {
      "name": "29th July - Household Level Prediction",
      "provenance": [],
      "collapsed_sections": [
        "svsqrk45tb_B",
        "3eJpHGVpGuji",
        "NmVtQy38Ozr6",
        "8RuYJx-5tq7J",
        "fgCZb9rPt-7_",
        "81IKcUrPuF0o"
      ],
      "toc_visible": true,
      "mount_file_id": "1XQiLyjIhVdgtFhuzVLHo5QTOzMLa85lV",
      "authorship_tag": "ABX9TyPTtRM51qR+crtBkdpSBkxf",
      "include_colab_link": true
    },
    "kernelspec": {
      "name": "python3",
      "display_name": "Python 3"
    }
  },
  "cells": [
    {
      "cell_type": "markdown",
      "metadata": {
        "id": "view-in-github",
        "colab_type": "text"
      },
      "source": [
        "<a href=\"https://colab.research.google.com/github/shengy90/MSc-Project/blob/master/notebooks/29th_July_Household_Level_Prediction.ipynb\" target=\"_parent\"><img src=\"https://colab.research.google.com/assets/colab-badge.svg\" alt=\"Open In Colab\"/></a>"
      ]
    },
    {
      "cell_type": "markdown",
      "metadata": {
        "id": "svsqrk45tb_B",
        "colab_type": "text"
      },
      "source": [
        "# **1️⃣ Setup Notebook 💻**"
      ]
    },
    {
      "cell_type": "markdown",
      "metadata": {
        "id": "3eJpHGVpGuji",
        "colab_type": "text"
      },
      "source": [
        "\n",
        "### **Authenticate with BigQuery ☁️**"
      ]
    },
    {
      "cell_type": "code",
      "metadata": {
        "id": "IkaOt64QmU90",
        "colab_type": "code",
        "colab": {}
      },
      "source": [
        "!pip install --upgrade google-cloud-bigquery[bqstorage,pandas]\n",
        "!pip install --upgrade pandas-gbq"
      ],
      "execution_count": null,
      "outputs": []
    },
    {
      "cell_type": "code",
      "metadata": {
        "id": "W6y1_cKZGJ1C",
        "colab_type": "code",
        "colab": {
          "base_uri": "https://localhost:8080/",
          "height": 34
        },
        "outputId": "dc729ae1-b681-48f1-c66f-8f4aea9d21b3"
      },
      "source": [
        "from google.colab import auth\n",
        "auth.authenticate_user()\n",
        "print('Authenticated')"
      ],
      "execution_count": 4,
      "outputs": [
        {
          "output_type": "stream",
          "text": [
            "Authenticated\n"
          ],
          "name": "stdout"
        }
      ]
    },
    {
      "cell_type": "code",
      "metadata": {
        "id": "7cPJ-kLQGQ0r",
        "colab_type": "code",
        "colab": {}
      },
      "source": [
        "%%bigquery --project machine-learning-msc df --use_bqstorage_api\n",
        "SELECT \n",
        "  COUNT(*) as total_rows\n",
        "FROM `machine-learning-msc.low_carbon_london.household_consumption_daily_agg` "
      ],
      "execution_count": 5,
      "outputs": []
    },
    {
      "cell_type": "code",
      "metadata": {
        "id": "Ts6qMG3PGlUL",
        "colab_type": "code",
        "colab": {
          "base_uri": "https://localhost:8080/",
          "height": 80
        },
        "outputId": "e3b7dcd9-3384-419b-bfab-14402ec9881c"
      },
      "source": [
        "df.head()"
      ],
      "execution_count": 6,
      "outputs": [
        {
          "output_type": "execute_result",
          "data": {
            "text/html": [
              "<div>\n",
              "<style scoped>\n",
              "    .dataframe tbody tr th:only-of-type {\n",
              "        vertical-align: middle;\n",
              "    }\n",
              "\n",
              "    .dataframe tbody tr th {\n",
              "        vertical-align: top;\n",
              "    }\n",
              "\n",
              "    .dataframe thead th {\n",
              "        text-align: right;\n",
              "    }\n",
              "</style>\n",
              "<table border=\"1\" class=\"dataframe\">\n",
              "  <thead>\n",
              "    <tr style=\"text-align: right;\">\n",
              "      <th></th>\n",
              "      <th>total_rows</th>\n",
              "    </tr>\n",
              "  </thead>\n",
              "  <tbody>\n",
              "    <tr>\n",
              "      <th>0</th>\n",
              "      <td>14841792</td>\n",
              "    </tr>\n",
              "  </tbody>\n",
              "</table>\n",
              "</div>"
            ],
            "text/plain": [
              "   total_rows\n",
              "0    14841792"
            ]
          },
          "metadata": {
            "tags": []
          },
          "execution_count": 6
        }
      ]
    },
    {
      "cell_type": "markdown",
      "metadata": {
        "id": "G4sbx8kLH89t",
        "colab_type": "text"
      },
      "source": [
        "### **Importing Libraries⏬**"
      ]
    },
    {
      "cell_type": "markdown",
      "metadata": {
        "id": "NmVtQy38Ozr6",
        "colab_type": "text"
      },
      "source": [
        "##### Standard Libraries"
      ]
    },
    {
      "cell_type": "code",
      "metadata": {
        "id": "fr9vUfxAICRD",
        "colab_type": "code",
        "colab": {
          "base_uri": "https://localhost:8080/",
          "height": 71
        },
        "outputId": "5570031a-6c69-4926-abb5-087d19d59d8e"
      },
      "source": [
        "import numpy as np\n",
        "import pandas as pd \n",
        "import seaborn as sns\n",
        "import matplotlib.pyplot as plt \n",
        "import random\n",
        "import datetime as dt\n",
        "\n",
        "from tqdm import tqdm\n",
        "from datetime import date\n",
        "from matplotlib.gridspec import GridSpec\n",
        "from sklearn.decomposition import PCA\n",
        "from sklearn.cluster import AgglomerativeClustering\n",
        " \n",
        "sns.set()\n",
        "%matplotlib inline"
      ],
      "execution_count": 7,
      "outputs": [
        {
          "output_type": "stream",
          "text": [
            "/usr/local/lib/python3.6/dist-packages/statsmodels/tools/_testing.py:19: FutureWarning: pandas.util.testing is deprecated. Use the functions in the public API at pandas.testing instead.\n",
            "  import pandas.util.testing as tm\n"
          ],
          "name": "stderr"
        }
      ]
    },
    {
      "cell_type": "markdown",
      "metadata": {
        "id": "8RuYJx-5tq7J",
        "colab_type": "text"
      },
      "source": [
        "# **2️⃣ Household Pred**"
      ]
    },
    {
      "cell_type": "markdown",
      "metadata": {
        "id": "81IKcUrPuF0o",
        "colab_type": "text"
      },
      "source": [
        "### **Test**"
      ]
    },
    {
      "cell_type": "code",
      "metadata": {
        "id": "6x7KzC2yvOSA",
        "colab_type": "code",
        "colab": {}
      },
      "source": [
        "%%bigquery --project machine-learning-msc df --use_bqstorage_api\n",
        "\n",
        "WITH pca_clusters AS (\n",
        "  SELECT \n",
        "  lcl_id,\n",
        "  cluster\n",
        "  FROM `machine-learning-msc.low_carbon_london.pca_clusters_20200712`\n",
        "  WHERE train_test_split = 'test'\n",
        "  GROUP BY 1,2\n",
        "  ),\n",
        "  \n",
        "som_cluster_num AS (\n",
        "  SELECT cluster_x, cluster_y,\n",
        "  CAST(ROW_NUMBER() OVER (ORDER BY cluster_x, cluster_y)-1 AS STRING) AS cluster\n",
        "  FROM `machine-learning-msc.low_carbon_london.som_clusters_20200712`\n",
        "  group by 1,2\n",
        "  order by 1,2 asc\n",
        "  ),\n",
        "  \n",
        "som_clusters AS (\n",
        "  SELECT \n",
        "  DISTINCT \n",
        "  a.lcl_id,\n",
        "  b.cluster,\n",
        "  a.cluster_x,\n",
        "  a.cluster_y\n",
        "  FROM `machine-learning-msc.low_carbon_london.som_clusters_20200712` a \n",
        "  LEFT JOIN som_cluster_num b ON a.cluster_x = b.cluster_x AND a.cluster_y = b.cluster_y\n",
        "  WHERE train_test_split = 'test'\n",
        "  )\n",
        "\n",
        "\n",
        "SELECT \n",
        "pca.cluster AS pca_cluster,\n",
        "som.cluster AS som_cluster,\n",
        "test.lcl_id,\n",
        "test.ts AS ds,\n",
        "test.kwhh AS y,\n",
        "\n",
        "-- baseline\n",
        "baseline.yhat AS baseline_pred,\n",
        "ROUND(ABS(SAFE_DIVIDE(baseline.yhat,kwhh+0.001) - 1),4)*100 AS baseline_abs_perc_err,\n",
        "ROUND((SAFE_DIVIDE(baseline.yhat,kwhh+0.001) - 1),4)*100 AS baseline_perc_err,\n",
        "-- pca \n",
        "pca_pred.yhat AS agglo_pred,\n",
        "ROUND(ABS(SAFE_DIVIDE(pca_pred.yhat,kwhh+0.001) - 1),4)*100 AS agglo_abs_perc_err,\n",
        "ROUND((SAFE_DIVIDE(pca_pred.yhat,kwhh+0.001) - 1),4)*100 AS agglo_perc_err,\n",
        "\n",
        "-- som \n",
        "som_pred.yhat AS som_pred,\n",
        "ROUND(ABS(SAFE_DIVIDE(som_pred.yhat,kwhh+0.001) - 1),4)*100 AS som_abs_perc_err,\n",
        "ROUND((SAFE_DIVIDE(som_pred.yhat,kwhh+0.001) - 1),4)*100 AS som_perc_err\n",
        "\n",
        "\n",
        "FROM `machine-learning-msc.forecasting_20200719.test_set` test\n",
        "\n",
        "LEFT JOIN pca_clusters pca \n",
        "  ON pca.lcl_id = test.lcl_id \n",
        "LEFT JOIN som_clusters som \n",
        "  ON som.lcl_id = test.lcl_id\n",
        "LEFT JOIN `machine-learning-msc.forecasting_20200719.agglo_test_prediction` pca_pred\n",
        "  ON test.ts = pca_pred.ds\n",
        "  AND pca_pred.cluster = pca.cluster\n",
        "LEFT JOIN `machine-learning-msc.forecasting_20200719.som_test_prediction` som_pred\n",
        "  ON test.ts = som_pred.ds\n",
        "  AND som_pred.cluster = som.cluster\n",
        "LEFT JOIN `machine-learning-msc.forecasting_20200719.baseline_test_prediction` baseline\n",
        "  ON baseline.ds = test.ts \n",
        "  \n",
        "WHERE test.ts >= '2013-02-01' AND test.ts < '2013-03-01'\n",
        "ORDER BY 1,2,3,4 ASC "
      ],
      "execution_count": 14,
      "outputs": []
    },
    {
      "cell_type": "code",
      "metadata": {
        "id": "PV40PKexKkGO",
        "colab_type": "code",
        "colab": {}
      },
      "source": [
        "df['ds'] = df['ds'].dt.tz_localize(None) # remove timezones "
      ],
      "execution_count": 15,
      "outputs": []
    },
    {
      "cell_type": "code",
      "metadata": {
        "id": "lLanvAIxKwgv",
        "colab_type": "code",
        "colab": {
          "base_uri": "https://localhost:8080/",
          "height": 68
        },
        "outputId": "a167d834-3454-48cb-9cf9-7f19058b63ca"
      },
      "source": [
        "print(f\"Baseline Test Mape: {np.average(df['baseline_abs_perc_err'])}\")\n",
        "print(f\"Agglomerative Clustering Test Mape: {np.average(df['agglo_abs_perc_err'])}\")\n",
        "print(f\"SOM Clustering Test Mape: {np.average(df['som_abs_perc_err'])}\")"
      ],
      "execution_count": 10,
      "outputs": [
        {
          "output_type": "stream",
          "text": [
            "Baseline Test Mape: 493.58294241934954\n",
            "Agglomerative Clustering Test Mape: 1675.7211575404147\n",
            "SOM Clustering Test Mape: 490.788862435771\n"
          ],
          "name": "stdout"
        }
      ]
    },
    {
      "cell_type": "code",
      "metadata": {
        "id": "ctIUmMuMBi1a",
        "colab_type": "code",
        "colab": {
          "base_uri": "https://localhost:8080/",
          "height": 68
        },
        "outputId": "83366aa0-5fc4-42fa-b584-0b215c71528a"
      },
      "source": [
        "print(f\"Baseline Test Mean Percentage Error: {np.average(df['baseline_perc_err'])}\")\n",
        "print(f\"Agglomerative Clustering Test Mean Percentage Error: {np.average(df['agglo_perc_err'])}\")\n",
        "print(f\"SOM Clustering Test Mean Percentage Error: {np.average(df['som_perc_err'])}\")"
      ],
      "execution_count": 16,
      "outputs": [
        {
          "output_type": "stream",
          "text": [
            "Baseline Test Mean Percentage Error: 469.82735556495936\n",
            "Agglomerative Clustering Test Mean Percentage Error: 1661.0919225034045\n",
            "SOM Clustering Test Mean Percentage Error: 453.4359002559122\n"
          ],
          "name": "stdout"
        }
      ]
    },
    {
      "cell_type": "code",
      "metadata": {
        "id": "OHv1cCR4K2Gk",
        "colab_type": "code",
        "colab": {
          "base_uri": "https://localhost:8080/",
          "height": 269
        },
        "outputId": "6ffde867-0f22-4481-deb2-6fecbc932924"
      },
      "source": [
        "ax = sns.kdeplot(df.query(\"baseline_perc_err<1000\")['baseline_perc_err'])\n",
        "ax = sns.kdeplot(df.query(\"agglo_perc_err<1000\")['agglo_perc_err'])\n",
        "ax = sns.kdeplot(df.query(\"som_perc_err<1000\")['som_perc_err'])"
      ],
      "execution_count": 28,
      "outputs": [
        {
          "output_type": "display_data",
          "data": {
            "image/png": "[encoded data removed]",
            "text/plain": [
              "<Figure size 432x288 with 1 Axes>"
            ]
          },
          "metadata": {
            "tags": [],
            "needs_background": "light"
          }
        }
      ]
    }
  ]
}