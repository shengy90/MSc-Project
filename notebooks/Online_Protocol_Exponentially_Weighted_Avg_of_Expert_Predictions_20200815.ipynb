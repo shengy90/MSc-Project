{
  "nbformat": 4,
  "nbformat_minor": 0,
  "metadata": {
    "colab": {
      "name": "Online Protocol - Exponentially Weighted Avg of Expert Predictions - 20200815",
      "provenance": [],
      "collapsed_sections": [
        "svsqrk45tb_B",
        "3eJpHGVpGuji",
        "NmVtQy38Ozr6",
        "Hq2GQCXqO2ZD"
      ],
      "mount_file_id": "1XQiLyjIhVdgtFhuzVLHo5QTOzMLa85lV",
      "authorship_tag": "ABX9TyOG1ZWVJWLn3gZdn045yaaj",
      "include_colab_link": true
    },
    "kernelspec": {
      "name": "python3",
      "display_name": "Python 3"
    },
    "widgets": {
      "application/vnd.jupyter.widget-state+json": {
        "db4e4db90ccb497498761a6fe6de9867": {
          "model_module": "@jupyter-widgets/controls",
          "model_name": "HBoxModel",
          "state": {
            "_view_name": "HBoxView",
            "_dom_classes": [],
            "_model_name": "HBoxModel",
            "_view_module": "@jupyter-widgets/controls",
            "_model_module_version": "1.5.0",
            "_view_count": null,
            "_view_module_version": "1.5.0",
            "box_style": "",
            "layout": "IPY_MODEL_61db4cfd076e4f98994f6ab7078fe324",
            "_model_module": "@jupyter-widgets/controls",
            "children": [
              "IPY_MODEL_f6086b3a468f4f58a1535f087674cb91",
              "IPY_MODEL_2d3f12c8f04245dc8f2e0b556806ed3f"
            ]
          }
        },
        "61db4cfd076e4f98994f6ab7078fe324": {
          "model_module": "@jupyter-widgets/base",
          "model_name": "LayoutModel",
          "state": {
            "_view_name": "LayoutView",
            "grid_template_rows": null,
            "right": null,
            "justify_content": null,
            "_view_module": "@jupyter-widgets/base",
            "overflow": null,
            "_model_module_version": "1.2.0",
            "_view_count": null,
            "flex_flow": null,
            "width": null,
            "min_width": null,
            "border": null,
            "align_items": null,
            "bottom": null,
            "_model_module": "@jupyter-widgets/base",
            "top": null,
            "grid_column": null,
            "overflow_y": null,
            "overflow_x": null,
            "grid_auto_flow": null,
            "grid_area": null,
            "grid_template_columns": null,
            "flex": null,
            "_model_name": "LayoutModel",
            "justify_items": null,
            "grid_row": null,
            "max_height": null,
            "align_content": null,
            "visibility": null,
            "align_self": null,
            "height": null,
            "min_height": null,
            "padding": null,
            "grid_auto_rows": null,
            "grid_gap": null,
            "max_width": null,
            "order": null,
            "_view_module_version": "1.2.0",
            "grid_template_areas": null,
            "object_position": null,
            "object_fit": null,
            "grid_auto_columns": null,
            "margin": null,
            "display": null,
            "left": null
          }
        },
        "f6086b3a468f4f58a1535f087674cb91": {
          "model_module": "@jupyter-widgets/controls",
          "model_name": "FloatProgressModel",
          "state": {
            "_view_name": "ProgressView",
            "style": "IPY_MODEL_27825cdff8df4369a16eee4cdd976201",
            "_dom_classes": [],
            "description": "100%",
            "_model_name": "FloatProgressModel",
            "bar_style": "success",
            "max": 5904,
            "_view_module": "@jupyter-widgets/controls",
            "_model_module_version": "1.5.0",
            "value": 5904,
            "_view_count": null,
            "_view_module_version": "1.5.0",
            "orientation": "horizontal",
            "min": 0,
            "description_tooltip": null,
            "_model_module": "@jupyter-widgets/controls",
            "layout": "IPY_MODEL_676606b617a941a0ad77ab46d4a3e035"
          }
        },
        "2d3f12c8f04245dc8f2e0b556806ed3f": {
          "model_module": "@jupyter-widgets/controls",
          "model_name": "HTMLModel",
          "state": {
            "_view_name": "HTMLView",
            "style": "IPY_MODEL_f518b49c4acd497c9d917c55305e26a5",
            "_dom_classes": [],
            "description": "",
            "_model_name": "HTMLModel",
            "placeholder": "​",
            "_view_module": "@jupyter-widgets/controls",
            "_model_module_version": "1.5.0",
            "value": " 5904/5904 [02:22&lt;00:00, 41.48it/s]",
            "_view_count": null,
            "_view_module_version": "1.5.0",
            "description_tooltip": null,
            "_model_module": "@jupyter-widgets/controls",
            "layout": "IPY_MODEL_0fb90762a1054d25abf76d69863a0910"
          }
        },
        "27825cdff8df4369a16eee4cdd976201": {
          "model_module": "@jupyter-widgets/controls",
          "model_name": "ProgressStyleModel",
          "state": {
            "_view_name": "StyleView",
            "_model_name": "ProgressStyleModel",
            "description_width": "initial",
            "_view_module": "@jupyter-widgets/base",
            "_model_module_version": "1.5.0",
            "_view_count": null,
            "_view_module_version": "1.2.0",
            "bar_color": null,
            "_model_module": "@jupyter-widgets/controls"
          }
        },
        "676606b617a941a0ad77ab46d4a3e035": {
          "model_module": "@jupyter-widgets/base",
          "model_name": "LayoutModel",
          "state": {
            "_view_name": "LayoutView",
            "grid_template_rows": null,
            "right": null,
            "justify_content": null,
            "_view_module": "@jupyter-widgets/base",
            "overflow": null,
            "_model_module_version": "1.2.0",
            "_view_count": null,
            "flex_flow": null,
            "width": null,
            "min_width": null,
            "border": null,
            "align_items": null,
            "bottom": null,
            "_model_module": "@jupyter-widgets/base",
            "top": null,
            "grid_column": null,
            "overflow_y": null,
            "overflow_x": null,
            "grid_auto_flow": null,
            "grid_area": null,
            "grid_template_columns": null,
            "flex": null,
            "_model_name": "LayoutModel",
            "justify_items": null,
            "grid_row": null,
            "max_height": null,
            "align_content": null,
            "visibility": null,
            "align_self": null,
            "height": null,
            "min_height": null,
            "padding": null,
            "grid_auto_rows": null,
            "grid_gap": null,
            "max_width": null,
            "order": null,
            "_view_module_version": "1.2.0",
            "grid_template_areas": null,
            "object_position": null,
            "object_fit": null,
            "grid_auto_columns": null,
            "margin": null,
            "display": null,
            "left": null
          }
        },
        "f518b49c4acd497c9d917c55305e26a5": {
          "model_module": "@jupyter-widgets/controls",
          "model_name": "DescriptionStyleModel",
          "state": {
            "_view_name": "StyleView",
            "_model_name": "DescriptionStyleModel",
            "description_width": "",
            "_view_module": "@jupyter-widgets/base",
            "_model_module_version": "1.5.0",
            "_view_count": null,
            "_view_module_version": "1.2.0",
            "_model_module": "@jupyter-widgets/controls"
          }
        },
        "0fb90762a1054d25abf76d69863a0910": {
          "model_module": "@jupyter-widgets/base",
          "model_name": "LayoutModel",
          "state": {
            "_view_name": "LayoutView",
            "grid_template_rows": null,
            "right": null,
            "justify_content": null,
            "_view_module": "@jupyter-widgets/base",
            "overflow": null,
            "_model_module_version": "1.2.0",
            "_view_count": null,
            "flex_flow": null,
            "width": null,
            "min_width": null,
            "border": null,
            "align_items": null,
            "bottom": null,
            "_model_module": "@jupyter-widgets/base",
            "top": null,
            "grid_column": null,
            "overflow_y": null,
            "overflow_x": null,
            "grid_auto_flow": null,
            "grid_area": null,
            "grid_template_columns": null,
            "flex": null,
            "_model_name": "LayoutModel",
            "justify_items": null,
            "grid_row": null,
            "max_height": null,
            "align_content": null,
            "visibility": null,
            "align_self": null,
            "height": null,
            "min_height": null,
            "padding": null,
            "grid_auto_rows": null,
            "grid_gap": null,
            "max_width": null,
            "order": null,
            "_view_module_version": "1.2.0",
            "grid_template_areas": null,
            "object_position": null,
            "object_fit": null,
            "grid_auto_columns": null,
            "margin": null,
            "display": null,
            "left": null
          }
        }
      }
    }
  },
  "cells": [
    {
      "cell_type": "markdown",
      "metadata": {
        "id": "view-in-github",
        "colab_type": "text"
      },
      "source": [
        "<a href=\"https://colab.research.google.com/github/shengy90/MSc-Project/blob/master/notebooks/Online_Protocol_Exponentially_Weighted_Avg_of_Expert_Predictions_20200815.ipynb\" target=\"_parent\"><img src=\"https://colab.research.google.com/assets/colab-badge.svg\" alt=\"Open In Colab\"/></a>"
      ]
    },
    {
      "cell_type": "markdown",
      "metadata": {
        "id": "svsqrk45tb_B",
        "colab_type": "text"
      },
      "source": [
        "# **1️⃣ Setup Notebook 💻**"
      ]
    },
    {
      "cell_type": "markdown",
      "metadata": {
        "id": "3eJpHGVpGuji",
        "colab_type": "text"
      },
      "source": [
        "\n",
        "### **Authenticate with BigQuery ☁️**"
      ]
    },
    {
      "cell_type": "code",
      "metadata": {
        "id": "IkaOt64QmU90",
        "colab_type": "code",
        "colab": {}
      },
      "source": [
        "!pip install --upgrade google-cloud-bigquery[bqstorage,pandas]\n",
        "!pip install --upgrade pandas-gbq"
      ],
      "execution_count": null,
      "outputs": []
    },
    {
      "cell_type": "code",
      "metadata": {
        "id": "W6y1_cKZGJ1C",
        "colab_type": "code",
        "colab": {
          "base_uri": "https://localhost:8080/",
          "height": 34
        },
        "outputId": "6262258b-87c4-4322-dd9e-f675208ed290"
      },
      "source": [
        "import google.auth\n",
        "from google.colab import auth\n",
        "from google.cloud import bigquery\n",
        "from google.cloud import bigquery_storage_v1beta1\n",
        "\n",
        "auth.authenticate_user()\n",
        "print('Authenticated')"
      ],
      "execution_count": null,
      "outputs": [
        {
          "output_type": "stream",
          "text": [
            "Authenticated\n"
          ],
          "name": "stdout"
        }
      ]
    },
    {
      "cell_type": "code",
      "metadata": {
        "id": "Ts6qMG3PGlUL",
        "colab_type": "code",
        "colab": {}
      },
      "source": [
        "credentials, your_project_id = google.auth.default(scopes=[\"https://www.googleapis.com/auth/cloud-platform\"])\n",
        "your_project_id = 'machine-learning-msc'\n",
        "# Make clients.\n",
        "bqclient = bigquery.Client(\n",
        "    credentials=credentials,\n",
        "    project=your_project_id\n",
        "    )\n",
        "bqstorageclient = bigquery_storage_v1beta1.BigQueryStorageClient(\n",
        "    credentials=credentials\n",
        ")"
      ],
      "execution_count": null,
      "outputs": []
    },
    {
      "cell_type": "code",
      "metadata": {
        "id": "Xv_j8ZER6G6i",
        "colab_type": "code",
        "colab": {}
      },
      "source": [
        "query_string = \"\"\"\n",
        "SELECT\n",
        "COUNT(*) AS test\n",
        "FROM `machine-learning-msc.low_carbon_london.household_consumption_daily_agg` \n",
        "\"\"\""
      ],
      "execution_count": null,
      "outputs": []
    },
    {
      "cell_type": "code",
      "metadata": {
        "id": "VuQx-I0bAIju",
        "colab_type": "code",
        "colab": {}
      },
      "source": [
        "def download_query_results(query_string, bqclient=bqclient, bqstorateclient=bqstorageclient):\n",
        "    df = bqclient.query(query_string).result().to_dataframe(bqstorage_client=bqstorageclient)\n",
        "    return df"
      ],
      "execution_count": null,
      "outputs": []
    },
    {
      "cell_type": "code",
      "metadata": {
        "id": "4tKDHCl56H2k",
        "colab_type": "code",
        "colab": {
          "base_uri": "https://localhost:8080/",
          "height": 80
        },
        "outputId": "628b7c5d-56e4-441d-9ea6-4c54b9066904"
      },
      "source": [
        "df = download_query_results(query_string, bqclient, bqstorageclient)\n",
        "df"
      ],
      "execution_count": null,
      "outputs": [
        {
          "output_type": "execute_result",
          "data": {
            "text/html": [
              "<div>\n",
              "<style scoped>\n",
              "    .dataframe tbody tr th:only-of-type {\n",
              "        vertical-align: middle;\n",
              "    }\n",
              "\n",
              "    .dataframe tbody tr th {\n",
              "        vertical-align: top;\n",
              "    }\n",
              "\n",
              "    .dataframe thead th {\n",
              "        text-align: right;\n",
              "    }\n",
              "</style>\n",
              "<table border=\"1\" class=\"dataframe\">\n",
              "  <thead>\n",
              "    <tr style=\"text-align: right;\">\n",
              "      <th></th>\n",
              "      <th>test</th>\n",
              "    </tr>\n",
              "  </thead>\n",
              "  <tbody>\n",
              "    <tr>\n",
              "      <th>0</th>\n",
              "      <td>14841792</td>\n",
              "    </tr>\n",
              "  </tbody>\n",
              "</table>\n",
              "</div>"
            ],
            "text/plain": [
              "       test\n",
              "0  14841792"
            ]
          },
          "metadata": {
            "tags": []
          },
          "execution_count": 5
        }
      ]
    },
    {
      "cell_type": "code",
      "metadata": {
        "id": "GlyM_RE6rf5I",
        "colab_type": "code",
        "colab": {}
      },
      "source": [
        "import pandas_gbq\n",
        "def output_to_bq(forecast, table_id, project_id='machine-learning-msc'):\n",
        "    pandas_gbq.to_gbq(forecast, table_id, project_id=project_id, if_exists='append')"
      ],
      "execution_count": null,
      "outputs": []
    },
    {
      "cell_type": "markdown",
      "metadata": {
        "id": "G4sbx8kLH89t",
        "colab_type": "text"
      },
      "source": [
        "### **Importing Libraries⏬**"
      ]
    },
    {
      "cell_type": "markdown",
      "metadata": {
        "id": "NmVtQy38Ozr6",
        "colab_type": "text"
      },
      "source": [
        "##### Standard Libraries"
      ]
    },
    {
      "cell_type": "code",
      "metadata": {
        "id": "E0JiDvCG3U4F",
        "colab_type": "code",
        "colab": {
          "base_uri": "https://localhost:8080/",
          "height": 493
        },
        "outputId": "77e63345-e360-4b33-d287-13275ce89872"
      },
      "source": [
        "!pip install fbprophet\n",
        "!pip install MiniSom"
      ],
      "execution_count": null,
      "outputs": [
        {
          "output_type": "stream",
          "text": [
            "Requirement already satisfied: fbprophet in /usr/local/lib/python3.6/dist-packages (0.6)\n",
            "Requirement already satisfied: Cython>=0.22 in /usr/local/lib/python3.6/dist-packages (from fbprophet) (0.29.21)\n",
            "Requirement already satisfied: cmdstanpy==0.4 in /usr/local/lib/python3.6/dist-packages (from fbprophet) (0.4.0)\n",
            "Requirement already satisfied: pystan>=2.14 in /usr/local/lib/python3.6/dist-packages (from fbprophet) (2.19.1.1)\n",
            "Requirement already satisfied: numpy>=1.10.0 in /usr/local/lib/python3.6/dist-packages (from fbprophet) (1.18.5)\n",
            "Requirement already satisfied: pandas>=0.23.4 in /usr/local/lib/python3.6/dist-packages (from fbprophet) (1.0.5)\n",
            "Requirement already satisfied: matplotlib>=2.0.0 in /usr/local/lib/python3.6/dist-packages (from fbprophet) (3.2.2)\n",
            "Requirement already satisfied: LunarCalendar>=0.0.9 in /usr/local/lib/python3.6/dist-packages (from fbprophet) (0.0.9)\n",
            "Requirement already satisfied: convertdate>=2.1.2 in /usr/local/lib/python3.6/dist-packages (from fbprophet) (2.2.1)\n",
            "Requirement already satisfied: holidays>=0.9.5 in /usr/local/lib/python3.6/dist-packages (from fbprophet) (0.9.12)\n",
            "Requirement already satisfied: setuptools-git>=1.2 in /usr/local/lib/python3.6/dist-packages (from fbprophet) (1.2)\n",
            "Requirement already satisfied: python-dateutil>=2.8.0 in /usr/local/lib/python3.6/dist-packages (from fbprophet) (2.8.1)\n",
            "Requirement already satisfied: pytz>=2017.2 in /usr/local/lib/python3.6/dist-packages (from pandas>=0.23.4->fbprophet) (2018.9)\n",
            "Requirement already satisfied: cycler>=0.10 in /usr/local/lib/python3.6/dist-packages (from matplotlib>=2.0.0->fbprophet) (0.10.0)\n",
            "Requirement already satisfied: kiwisolver>=1.0.1 in /usr/local/lib/python3.6/dist-packages (from matplotlib>=2.0.0->fbprophet) (1.2.0)\n",
            "Requirement already satisfied: pyparsing!=2.0.4,!=2.1.2,!=2.1.6,>=2.0.1 in /usr/local/lib/python3.6/dist-packages (from matplotlib>=2.0.0->fbprophet) (2.4.7)\n",
            "Requirement already satisfied: ephem>=3.7.5.3 in /usr/local/lib/python3.6/dist-packages (from LunarCalendar>=0.0.9->fbprophet) (3.7.7.1)\n",
            "Requirement already satisfied: pymeeus<=1,>=0.3.6 in /usr/local/lib/python3.6/dist-packages (from convertdate>=2.1.2->fbprophet) (0.3.7)\n",
            "Requirement already satisfied: six in /usr/local/lib/python3.6/dist-packages (from holidays>=0.9.5->fbprophet) (1.15.0)\n",
            "Collecting MiniSom\n",
            "  Downloading https://files.pythonhosted.org/packages/9d/10/a1c1621000d5ca00c41695689551c1a4d6d245d7bbf099d81e067da3e8f2/MiniSom-2.2.6.tar.gz\n",
            "Building wheels for collected packages: MiniSom\n",
            "  Building wheel for MiniSom (setup.py) ... \u001b[?25l\u001b[?25hdone\n",
            "  Created wheel for MiniSom: filename=MiniSom-2.2.6-cp36-none-any.whl size=8525 sha256=bb2ff42345eed220060425fc2f2afbbc4c0135b1dcf18db4d6d8768b4f74c81c\n",
            "  Stored in directory: /root/.cache/pip/wheels/b8/c6/01/330066e36e1f7c826c96f656f9185822cfcdef0591315949ea\n",
            "Successfully built MiniSom\n",
            "Installing collected packages: MiniSom\n",
            "Successfully installed MiniSom-2.2.6\n"
          ],
          "name": "stdout"
        }
      ]
    },
    {
      "cell_type": "code",
      "metadata": {
        "id": "fr9vUfxAICRD",
        "colab_type": "code",
        "colab": {
          "base_uri": "https://localhost:8080/",
          "height": 51
        },
        "outputId": "88f97d40-2817-4a2c-834b-e243e9fc657f"
      },
      "source": [
        "import numpy as np\n",
        "import pandas as pd \n",
        "import seaborn as sns\n",
        "import matplotlib.pyplot as plt \n",
        "import random\n",
        "import datetime as dt\n",
        "\n",
        "from minisom import MiniSom\n",
        "from tqdm.notebook import tqdm\n",
        "from datetime import date\n",
        "from datetime import datetime\n",
        "from datetime import timedelta\n",
        "from dateutil.relativedelta import relativedelta\n",
        "from matplotlib.gridspec import GridSpec\n",
        "from sklearn.decomposition import PCA\n",
        "from sklearn.cluster import AgglomerativeClustering\n",
        " \n",
        "sns.set()\n",
        "%matplotlib inline"
      ],
      "execution_count": null,
      "outputs": [
        {
          "output_type": "stream",
          "text": [
            "/usr/local/lib/python3.6/dist-packages/statsmodels/tools/_testing.py:19: FutureWarning: pandas.util.testing is deprecated. Use the functions in the public API at pandas.testing instead.\n",
            "  import pandas.util.testing as tm\n"
          ],
          "name": "stderr"
        }
      ]
    },
    {
      "cell_type": "code",
      "metadata": {
        "id": "lQE0xrL4JT4F",
        "colab_type": "code",
        "colab": {}
      },
      "source": [
        "import pandas_gbq\n",
        "def output_to_bq(forecast, table_id, project_id='machine-learning-msc'):\n",
        "    pandas_gbq.to_gbq(forecast, table_id, project_id=project_id, if_exists='append')"
      ],
      "execution_count": null,
      "outputs": []
    },
    {
      "cell_type": "markdown",
      "metadata": {
        "id": "Hq2GQCXqO2ZD",
        "colab_type": "text"
      },
      "source": [
        "##### Import Github Repository"
      ]
    },
    {
      "cell_type": "code",
      "metadata": {
        "id": "LtzIWQvBPESj",
        "colab_type": "code",
        "colab": {
          "base_uri": "https://localhost:8080/",
          "height": 221
        },
        "outputId": "cca8853e-e498-49ab-ff33-b52f12865711"
      },
      "source": [
        "%cd /content\n",
        "!rm -rf mscproj\n",
        "!git clone https://github.com/shengy90/MSc-Project mscproj\n",
        "!git pull\n",
        "%cd /content/mscproj/\n",
        "!ls"
      ],
      "execution_count": null,
      "outputs": [
        {
          "output_type": "stream",
          "text": [
            "/content\n",
            "Cloning into 'mscproj'...\n",
            "remote: Enumerating objects: 175, done.\u001b[K\n",
            "remote: Counting objects: 100% (175/175), done.\u001b[K\n",
            "remote: Compressing objects: 100% (119/119), done.\u001b[K\n",
            "remote: Total 536 (delta 113), reused 108 (delta 56), pack-reused 361\u001b[K\n",
            "Receiving objects: 100% (536/536), 12.81 MiB | 7.16 MiB/s, done.\n",
            "Resolving deltas: 100% (311/311), done.\n",
            "fatal: not a git repository (or any of the parent directories): .git\n",
            "/content/mscproj\n",
            "bin\t     __init__.py  notebooks  requirements.txt  sql\n",
            "definitions  Makefile\t  README.md  run.py\t       src\n"
          ],
          "name": "stdout"
        }
      ]
    },
    {
      "cell_type": "code",
      "metadata": {
        "id": "Fnq6lOTUXbat",
        "colab_type": "code",
        "colab": {}
      },
      "source": [
        "%reload_ext autoreload \n",
        "%autoreload 2 \n",
        "from src.train_prophet import TrainProphet\n",
        "from src.train_clusters import TrainClusters\n",
        "from src.train_clusters import Normaliser\n",
        "from src.train_sliding_window import train_som, train_baseline, train_som_forecasts, evaluate_results, generate_query_strings"
      ],
      "execution_count": null,
      "outputs": []
    },
    {
      "cell_type": "markdown",
      "metadata": {
        "id": "e5c_Vpk_uIpR",
        "colab_type": "text"
      },
      "source": [
        "# 2️⃣ **Online Protocol - Exponentially Weighted Average of Expert Predidctions**"
      ]
    },
    {
      "cell_type": "code",
      "metadata": {
        "id": "E3_yRt2EuHnA",
        "colab_type": "code",
        "colab": {}
      },
      "source": [
        "start_date = '2013-02-01'\n",
        "query_string = f\"\"\"\n",
        "    WITH stg1 AS (\n",
        "        SELECT \n",
        "        DISTINCT\n",
        "        *   \n",
        "        FROM `machine-learning-msc.expert_predictions.results`\n",
        "        WHERE start_date >= '{start_date}' AND start_date < '2013-06-01'\n",
        "        AND train_test_split = 'test'\n",
        "        )\n",
        "    SELECT \n",
        "    *,\n",
        "    ROW_NUMBER() OVER (\n",
        "        PARTITION BY train_test_split, expert_name, CAST(cluster AS STRING)\n",
        "        ORDER BY ds ASC) - 1 AS row_number\n",
        "    FROM stg1\n",
        "    ORDER BY train_test_split ASC, expert_name ASC, CAST(cluster AS STRING) ASC, ds ASC\n",
        "    \"\"\"\n",
        "df = download_query_results(query_string)\n",
        "df['ds'] = df['ds'].dt.tz_localize(None) # Remove Timezones\n",
        "df_train = df.query(\"train_test_split=='train'\").copy()\n",
        "df_test = df.query(\"train_test_split=='test'\").copy()"
      ],
      "execution_count": 444,
      "outputs": []
    },
    {
      "cell_type": "code",
      "metadata": {
        "id": "5L5QDIl0bJ86",
        "colab_type": "code",
        "colab": {
          "base_uri": "https://localhost:8080/",
          "height": 34
        },
        "outputId": "9340b2b8-b5bd-4dfa-f4f8-b4beca925540"
      },
      "source": [
        "df_test['ds'].max()"
      ],
      "execution_count": 435,
      "outputs": [
        {
          "output_type": "execute_result",
          "data": {
            "text/plain": [
              "Timestamp('2014-02-28 00:00:00')"
            ]
          },
          "metadata": {
            "tags": []
          },
          "execution_count": 435
        }
      ]
    },
    {
      "cell_type": "code",
      "metadata": {
        "id": "oWEtGIV-uYzW",
        "colab_type": "code",
        "colab": {}
      },
      "source": [
        "def create_expert_df(df, idx_col):\n",
        "    return df.groupby(idx_col).count().reset_index()[idx_col].copy()\n",
        "\n",
        "def calculate_expert_prediction(df):\n",
        "    idx_col = ['ds','row_number']\n",
        "    expert_list = df['expert_name'].unique().tolist()\n",
        "    df_expert_predictions = create_expert_df(df, idx_col)\n",
        "\n",
        "    for expert in expert_list:\n",
        "        df_expert = pd.DataFrame(df.query(f\"expert_name=='{expert}'\").groupby(idx_col)[['yhat_global']].sum()).reset_index()\n",
        "        df_expert.rename(columns={'yhat_global':expert}, inplace=True)\n",
        "        df_expert_predictions = df_expert_predictions.merge(df_expert, left_on=idx_col, right_on=idx_col)\n",
        "    return df_expert_predictions\n",
        "\n",
        "def get_outcomes(df):\n",
        "    df_outcomes = df.groupby(['ds','row_number','expert_name'])['y_global'].sum().reset_index()\n",
        "    df_outcomes = df_outcomes.groupby(['ds','row_number'])['y_global'].mean().reset_index()\n",
        "    return df_outcomes \n",
        "\n",
        "\n",
        "def initialise_weights_df(in_df, expert_list):\n",
        "    df = in_df.copy()\n",
        "    df.set_index(['ds','row_number'])\n",
        "    df[expert_list]=np.NaN\n",
        "    df.reset_index(inplace=True)\n",
        "    df.drop(columns='index', inplace=True)\n",
        "    return df \n",
        "\n",
        "def normalise_weights(weights):\n",
        "    total_sum = np.sum(weights)\n",
        "    normalised_weights = weights/total_sum\n",
        "    return normalised_weights"
      ],
      "execution_count": 495,
      "outputs": []
    },
    {
      "cell_type": "code",
      "metadata": {
        "id": "LlsM_Zl87SRn",
        "colab_type": "code",
        "colab": {}
      },
      "source": [
        "def _initiate_dataframes(df):\n",
        "    expert_list = df['expert_name'].unique()\n",
        "\n",
        "    # Data Frames\n",
        "    df_experts = calculate_expert_prediction(df)\n",
        "    df_outcomes = get_outcomes(df)\n",
        "    df_weights = initialise_weights_df(df_experts, expert_list)\n",
        "    df_norm_weights = df_weights.copy()\n",
        "    df_expert_loss = df_weights.copy()\n",
        "    df_learner = df_weights[['ds','row_number']].copy()\n",
        "    df_learner['yhat_global'] = np.NaN \n",
        "    df_learner['learner_loss'] = np.NaN\n",
        "    df_learner['y_global'] = np.NaN\n",
        "\n",
        "    time_periods = df_weights['row_number']\n",
        "    return expert_list, df_experts, df_outcomes, df_weights, df_norm_weights, df_expert_loss, df_learner, time_periods\n",
        "\n",
        "\n",
        "def _evaluate_loss(outcome, pred):\n",
        "    return np.power(np.log(outcome + 1) - np.log(pred + 1),2)\n",
        "\n",
        "def _store_results(df, t, col, val):\n",
        "    df.loc[df['row_number']==t, col] = val\n",
        "    return df \n",
        "\n",
        "def _reset_weights(weights, normweights, limit):\n",
        "    if np.any(weights < limit):\n",
        "        fixed_weights = np.ones(len(weights)) * 0.1 # Resetting weights to 0.1\n",
        "    else:\n",
        "        fixed_weights = weights \n",
        "    return fixed_weights\n",
        "\n",
        "def _update_weights_strategy(t, strategy_num, previous_weights, loss, eta):\n",
        "    penalty = np.exp(-eta * loss)\n",
        "    \n",
        "    # STRATEGY 0\n",
        "    if strategy_num == 0:\n",
        "        updated_weights = previous_weights * (penalty)\n",
        "        norm_weights = normalise_weights(updated_weights)\n",
        "\n",
        "    # STRATEGY 1 \n",
        "    elif strategy_num == 1:\n",
        "        updated_weights = previous_weights * (0.1 + penalty)\n",
        "        norm_weights = normalise_weights(updated_weights)\n",
        "\n",
        "    # STRATEGY 2\n",
        "    elif strategy_num == 2:\n",
        "        ## initiate log\n",
        "        if t == 1:\n",
        "            updated_weights = np.log(previous_weights)\n",
        "        else: \n",
        "            updated_weights = previous_weights + np.log(0.1 + penalty)\n",
        "        norm_weights = normalise_weights(np.exp(updated_weights))\n",
        "    \n",
        "    # STRATEGY 3\n",
        "    elif strategy_num == 3:\n",
        "        if np.any(previous_weights < 0.000000001):\n",
        "            print(f\"⚠️ Replacing previous Weight at time {t}!\")\n",
        "            updated_weights = np.ones(len(previous_weights)) * 0.1 # reset to 0.1\n",
        "        else:\n",
        "            updated_weights = previous_weights * penalty\n",
        "        norm_weights = normalise_weights(updated_weights)\n",
        "\n",
        "    # STRATEGY 4\n",
        "    elif strategy_num == 4:\n",
        "        # Adding a constant to updated weights before normalising\n",
        "        # So that in case weights become to small, they won't completely disappear \n",
        "        # And if all weights are equally small \n",
        "        updated_weights = previous_weights * (penalty) \n",
        "        norm_weights = normalise_weights(updated_weights + 0.0000001)\n",
        "\n",
        "    else:\n",
        "        raise ValueError(f\"strategy_num {strategy_num} is invalid. It must be in [0, 1, 2, 3]\")\n",
        "    \n",
        "    return updated_weights, norm_weights\n",
        "\n",
        "\n",
        "\n",
        "def train_online(in_df, eta=1, strategy=0, verbose=False):\n",
        "    df = in_df.copy()\n",
        "\n",
        "    # Initialise Data Frames\n",
        "    expert_list, df_experts, df_outcomes, df_weights, df_norm_weights, df_expert_loss, df_learner, time_periods = _initiate_dataframes(df)\n",
        "\n",
        "    for t in tqdm(time_periods):\n",
        "        # 1.1 If T = 0, W0 = 1/N where N = number of experts. Normalised W0 = W0 by definition.\n",
        "        if t == 0:\n",
        "            w0 = 1/len(expert_list)\n",
        "            # w_e_t = np.log(w0) # All experts start off with an arbitrarily large weights to avoid weights decaying to ~ 0...\n",
        "            w_e_t = w0\n",
        "            p_e_t = w0\n",
        "            w_t_prev = np.NaN\n",
        "            loss_t_prev = np.NaN\n",
        "        # 1.2 If T>0, W[t] = W[t-1] X np.exp(-0.5 * Loss[t-1]). Normalised W[n,t] = W[n,t-1]/W[t-1].\n",
        "        else:\n",
        "            t_prev = t - 1 \n",
        "\n",
        "            # Get weights and losses from previous timestep\n",
        "            w_t_prev = df_weights.loc[df_weights['row_number']==t_prev, expert_list].to_numpy()[0]\n",
        "            loss_t_prev = df_expert_loss.loc[df_expert_loss['row_number']==t_prev, expert_list].to_numpy()[0]\n",
        "            # Update and normalise weights            \n",
        "            w_e_t, p_e_t = _update_weights_strategy(t, strategy, w_t_prev, loss_t_prev, eta)\n",
        "\n",
        "        # 2. Get Expert predictions \n",
        "        gamma_e_t = df_experts.loc[df_experts['row_number']==t, expert_list].to_numpy()[0]\n",
        "\n",
        "        # 3. Observe outcomes \n",
        "        omega_t = df_outcomes.loc[df_outcomes['row_number']==t, 'y_global'].to_numpy()[0]\n",
        "\n",
        "        # 4. Calculate Expert Loss \n",
        "        loss_e_t = _evaluate_loss(omega_t, gamma_e_t)\n",
        "\n",
        "        # 5. Calculate learner's prediction and learner's loss\n",
        "        learner_t = np.sum(p_e_t * gamma_e_t)\n",
        "        learner_loss_t = _evaluate_loss(omega_t, learner_t)\n",
        "        \n",
        "        if verbose==True:\n",
        "            # Only print first 20 timesteps\n",
        "            if t < 10:\n",
        "                print(f\"T = {t}.....................................\")\n",
        "                print(f\"👁 Weights at previous timestep:\\n{w_t_prev}\")\n",
        "                print(f\"🏄 Losses at previous timestep:\\n{loss_t_prev}\")\n",
        "                print(f\"0️⃣ Weights:\\n{w_e_t}\")\n",
        "                print(f\"1️⃣ Normalised Expert Weights:\\n{p_e_t}\")\n",
        "                print(f\"2️⃣ Expert Predictions at T=t:\\n{gamma_e_t}\")\n",
        "                print(f\"3️⃣ Observe outcome at T=t:\\n{omega_t}\")\n",
        "                print(f\"4️⃣ Expert loss at T=t:\\n{loss_e_t}\")\n",
        "                print(f\"5️⃣ Learner's prediction and loss at T=t.\\nPrediction: {learner_t}, Loss: {learner_loss_t}, MAPE: {np.round(np.abs(learner_t/omega_t-1)*100,4)}%\")\n",
        "                print(\"-------------------------------------------\\n\")\n",
        "\n",
        "        # Store Results \n",
        "        df_weights.loc[df_weights['row_number']==t, expert_list] = w_e_t\n",
        "        df_norm_weights.loc[df_norm_weights['row_number']==t, expert_list] = p_e_t\n",
        "        df_expert_loss.loc[df_expert_loss['row_number']==t, expert_list] = loss_e_t\n",
        "        df_learner.loc[df_learner['row_number']==t, 'yhat_global'] = learner_t \n",
        "        df_learner.loc[df_learner['row_number']==t, 'learner_loss'] = learner_loss_t\n",
        "        df_learner.loc[df_learner['row_number']==t, 'y_global'] = omega_t\n",
        "        df_learner['eta_value'] = str(eta)\n",
        "\n",
        "    return df_experts, df_weights, df_norm_weights, df_expert_loss, df_learner"
      ],
      "execution_count": 496,
      "outputs": []
    },
    {
      "cell_type": "code",
      "metadata": {
        "id": "OJIn86T8EgFR",
        "colab_type": "code",
        "colab": {
          "base_uri": "https://localhost:8080/",
          "height": 66,
          "referenced_widgets": [
            "db4e4db90ccb497498761a6fe6de9867",
            "61db4cfd076e4f98994f6ab7078fe324",
            "f6086b3a468f4f58a1535f087674cb91",
            "2d3f12c8f04245dc8f2e0b556806ed3f",
            "27825cdff8df4369a16eee4cdd976201",
            "676606b617a941a0ad77ab46d4a3e035",
            "f518b49c4acd497c9d917c55305e26a5",
            "0fb90762a1054d25abf76d69863a0910"
          ]
        },
        "outputId": "65c76a7e-9847-496a-adad-311becebe763"
      },
      "source": [
        "df_experts, df_weights, df_norm_weights, df_expert_loss, df_learner = train_online(df_test, strategy = 4, eta=1, verbose=False)"
      ],
      "execution_count": 497,
      "outputs": [
        {
          "output_type": "display_data",
          "data": {
            "application/vnd.jupyter.widget-view+json": {
              "model_id": "db4e4db90ccb497498761a6fe6de9867",
              "version_minor": 0,
              "version_major": 2
            },
            "text/plain": [
              "HBox(children=(FloatProgress(value=0.0, max=5904.0), HTML(value='')))"
            ]
          },
          "metadata": {
            "tags": []
          }
        },
        {
          "output_type": "stream",
          "text": [
            "\n"
          ],
          "name": "stdout"
        }
      ]
    },
    {
      "cell_type": "markdown",
      "metadata": {
        "id": "fJ6kR5N7-YvC",
        "colab_type": "text"
      },
      "source": [
        "# **3️⃣ Analyse Results**"
      ]
    },
    {
      "cell_type": "markdown",
      "metadata": {
        "id": "x6DfR2OWL_yf",
        "colab_type": "text"
      },
      "source": [
        "### **MAPE over all 13 months**"
      ]
    },
    {
      "cell_type": "code",
      "metadata": {
        "id": "i8XAWICb-clD",
        "colab_type": "code",
        "colab": {}
      },
      "source": [
        "expert_list = df_test['expert_name'].unique()\n",
        "df_learner_ape = df_learner.copy()\n",
        "df_experts_ape = df_experts.copy() \n",
        "\n",
        "\n",
        "df_learner_ape['ape'] = np.round(np.abs(df_learner_ape['yhat_global']/df_learner_ape['y_global']-1),5)*100\n",
        "df_experts_ape[expert_list] = np.round(np.abs(df_experts_ape[expert_list].divide(df_learner_ape['y_global'], axis=0)-1),5)*100"
      ],
      "execution_count": 498,
      "outputs": []
    },
    {
      "cell_type": "code",
      "metadata": {
        "id": "DwugWWijGxfR",
        "colab_type": "code",
        "colab": {
          "base_uri": "https://localhost:8080/",
          "height": 34
        },
        "outputId": "6861ea48-1b29-4b97-fcaf-6c07b1cd9379"
      },
      "source": [
        "df_learner_ape['ape'].mean()"
      ],
      "execution_count": 499,
      "outputs": [
        {
          "output_type": "execute_result",
          "data": {
            "text/plain": [
              "10.428802845528486"
            ]
          },
          "metadata": {
            "tags": []
          },
          "execution_count": 499
        }
      ]
    },
    {
      "cell_type": "code",
      "metadata": {
        "id": "CCEBL7q8IETO",
        "colab_type": "code",
        "colab": {
          "base_uri": "https://localhost:8080/",
          "height": 204
        },
        "outputId": "f7b3e1a8-3f72-465e-e3b6-62c51f940398"
      },
      "source": [
        "df_experts_ape[expert_list].mean()"
      ],
      "execution_count": 500,
      "outputs": [
        {
          "output_type": "execute_result",
          "data": {
            "text/plain": [
              "expert_cluster_1      9.985421\n",
              "expert_cluster_10    10.680274\n",
              "expert_cluster_2     10.253032\n",
              "expert_cluster_3      9.921957\n",
              "expert_cluster_4     10.567411\n",
              "expert_cluster_5     11.090817\n",
              "expert_cluster_6     10.619285\n",
              "expert_cluster_7     10.563929\n",
              "expert_cluster_8     10.743144\n",
              "expert_cluster_9     10.916622\n",
              "dtype: float64"
            ]
          },
          "metadata": {
            "tags": []
          },
          "execution_count": 500
        }
      ]
    },
    {
      "cell_type": "markdown",
      "metadata": {
        "id": "itdP8A3TMCip",
        "colab_type": "text"
      },
      "source": [
        "### **MAPE by calendar months**"
      ]
    },
    {
      "cell_type": "code",
      "metadata": {
        "id": "_YSXbiP8IO4v",
        "colab_type": "code",
        "colab": {}
      },
      "source": [
        "def convert_ds_to_month(ds):\n",
        "    return ds.strftime('%Y-%m')\n",
        "df_learner_ape['calendar_month'] = df_learner_ape['ds'].apply(convert_ds_to_month)\n",
        "df_experts_ape['calendar_month'] = df_experts_ape['ds'].apply(convert_ds_to_month)"
      ],
      "execution_count": 501,
      "outputs": []
    },
    {
      "cell_type": "code",
      "metadata": {
        "id": "Jb8yS2hFMG6B",
        "colab_type": "code",
        "colab": {
          "base_uri": "https://localhost:8080/",
          "height": 119
        },
        "outputId": "06b27612-2838-4eba-bf56-df793ad815b3"
      },
      "source": [
        "df_learner_ape.groupby('calendar_month')['ape'].mean()"
      ],
      "execution_count": 502,
      "outputs": [
        {
          "output_type": "execute_result",
          "data": {
            "text/plain": [
              "calendar_month\n",
              "2013-05    18.980394\n",
              "2013-06     7.864946\n",
              "2013-07     8.615506\n",
              "2013-08     6.171660\n",
              "Name: ape, dtype: float64"
            ]
          },
          "metadata": {
            "tags": []
          },
          "execution_count": 502
        }
      ]
    },
    {
      "cell_type": "code",
      "metadata": {
        "id": "TCP6nYa9MpHd",
        "colab_type": "code",
        "colab": {}
      },
      "source": [
        "res1 = pd.DataFrame(df_experts_ape.groupby('calendar_month')[['expert_cluster_1','expert_cluster_3','expert_cluster_5','expert_cluster_10']].mean())\n",
        "res2 = pd.DataFrame(df_learner_ape.groupby('calendar_month')['ape'].mean())\n",
        "res3 = res2.merge(res1, left_on='calendar_month', right_on='calendar_month')"
      ],
      "execution_count": 503,
      "outputs": []
    },
    {
      "cell_type": "code",
      "metadata": {
        "id": "GV7xLgIiM3J6",
        "colab_type": "code",
        "colab": {
          "base_uri": "https://localhost:8080/",
          "height": 204
        },
        "outputId": "baf1a075-28aa-4c18-9f92-8e2aef67c4a5"
      },
      "source": [
        "res3"
      ],
      "execution_count": 504,
      "outputs": [
        {
          "output_type": "execute_result",
          "data": {
            "text/html": [
              "<div>\n",
              "<style scoped>\n",
              "    .dataframe tbody tr th:only-of-type {\n",
              "        vertical-align: middle;\n",
              "    }\n",
              "\n",
              "    .dataframe tbody tr th {\n",
              "        vertical-align: top;\n",
              "    }\n",
              "\n",
              "    .dataframe thead th {\n",
              "        text-align: right;\n",
              "    }\n",
              "</style>\n",
              "<table border=\"1\" class=\"dataframe\">\n",
              "  <thead>\n",
              "    <tr style=\"text-align: right;\">\n",
              "      <th></th>\n",
              "      <th>ape</th>\n",
              "      <th>expert_cluster_1</th>\n",
              "      <th>expert_cluster_3</th>\n",
              "      <th>expert_cluster_5</th>\n",
              "      <th>expert_cluster_10</th>\n",
              "    </tr>\n",
              "    <tr>\n",
              "      <th>calendar_month</th>\n",
              "      <th></th>\n",
              "      <th></th>\n",
              "      <th></th>\n",
              "      <th></th>\n",
              "      <th></th>\n",
              "    </tr>\n",
              "  </thead>\n",
              "  <tbody>\n",
              "    <tr>\n",
              "      <th>2013-05</th>\n",
              "      <td>18.980394</td>\n",
              "      <td>17.532736</td>\n",
              "      <td>17.277273</td>\n",
              "      <td>20.723355</td>\n",
              "      <td>19.815033</td>\n",
              "    </tr>\n",
              "    <tr>\n",
              "      <th>2013-06</th>\n",
              "      <td>7.864946</td>\n",
              "      <td>7.837611</td>\n",
              "      <td>7.913185</td>\n",
              "      <td>7.809419</td>\n",
              "      <td>7.850637</td>\n",
              "    </tr>\n",
              "    <tr>\n",
              "      <th>2013-07</th>\n",
              "      <td>8.615506</td>\n",
              "      <td>8.492555</td>\n",
              "      <td>8.301265</td>\n",
              "      <td>9.473524</td>\n",
              "      <td>8.804522</td>\n",
              "    </tr>\n",
              "    <tr>\n",
              "      <th>2013-08</th>\n",
              "      <td>6.171660</td>\n",
              "      <td>6.009498</td>\n",
              "      <td>6.131308</td>\n",
              "      <td>6.251118</td>\n",
              "      <td>6.159627</td>\n",
              "    </tr>\n",
              "  </tbody>\n",
              "</table>\n",
              "</div>"
            ],
            "text/plain": [
              "                      ape  ...  expert_cluster_10\n",
              "calendar_month             ...                   \n",
              "2013-05         18.980394  ...          19.815033\n",
              "2013-06          7.864946  ...           7.850637\n",
              "2013-07          8.615506  ...           8.804522\n",
              "2013-08          6.171660  ...           6.159627\n",
              "\n",
              "[4 rows x 5 columns]"
            ]
          },
          "metadata": {
            "tags": []
          },
          "execution_count": 504
        }
      ]
    },
    {
      "cell_type": "markdown",
      "metadata": {
        "id": "65AcE0vVMIP-",
        "colab_type": "text"
      },
      "source": [
        "### **Plot Experts normalised weights over time**"
      ]
    },
    {
      "cell_type": "code",
      "metadata": {
        "id": "674KR-_ZMO1q",
        "colab_type": "code",
        "colab": {}
      },
      "source": [
        "def unpivot_df(df, expert_list, var_name):\n",
        "    out_df = pd.DataFrame()\n",
        "    for expert in expert_list:\n",
        "        expert_df = df[['ds','row_number',expert]].copy()\n",
        "        expert_df.rename(columns={expert: var_name}, inplace=True)\n",
        "        expert_df['expert_name'] = expert\n",
        "        out_df = pd.concat([out_df, expert_df])\n",
        "    return out_df\n",
        "\n",
        "df_norm_weights_unpivot = unpivot_df(df_norm_weights, expert_list, var_name=\"normalised_weights\")"
      ],
      "execution_count": 505,
      "outputs": []
    },
    {
      "cell_type": "code",
      "metadata": {
        "id": "mkwPCqRMMolL",
        "colab_type": "code",
        "colab": {
          "base_uri": "https://localhost:8080/",
          "height": 697
        },
        "outputId": "86dd01b4-abd8-4c49-d943-b3d58d7f82ff"
      },
      "source": [
        "sns.set_palette(\"Paired\")\n",
        "fig = plt.figure(figsize=(35,14))\n",
        "sns.lineplot(x='ds', y='normalised_weights', hue='expert_name', data=df_norm_weights_unpivot)"
      ],
      "execution_count": 506,
      "outputs": [
        {
          "output_type": "execute_result",
          "data": {
            "text/plain": [
              "<matplotlib.axes._subplots.AxesSubplot at 0x7f79c613d668>"
            ]
          },
          "metadata": {
            "tags": []
          },
          "execution_count": 506
        },
        {
          "output_type": "display_data",
          "data": {
            "image/png": "[encoded data removed]",
            "text/plain": [
              "<Figure size 2520x1008 with 1 Axes>"
            ]
          },
          "metadata": {
            "tags": [],
            "needs_background": "light"
          }
        }
      ]
    },
    {
      "cell_type": "code",
      "metadata": {
        "id": "CaMDZNKWRT4t",
        "colab_type": "code",
        "colab": {
          "base_uri": "https://localhost:8080/",
          "height": 34
        },
        "outputId": "2d69af0f-6c18-462f-e81d-db4fa4a996df"
      },
      "source": [
        "df_norm_weights_unpivot['normalised_weights'].max(), df_norm_weights_unpivot['normalised_weights'].min()"
      ],
      "execution_count": 507,
      "outputs": [
        {
          "output_type": "execute_result",
          "data": {
            "text/plain": [
              "(0.5060946823693855, 0.007655237896276974)"
            ]
          },
          "metadata": {
            "tags": []
          },
          "execution_count": 507
        }
      ]
    },
    {
      "cell_type": "code",
      "metadata": {
        "id": "651XboS8aSa-",
        "colab_type": "code",
        "colab": {
          "base_uri": "https://localhost:8080/",
          "height": 779
        },
        "outputId": "00bc467b-3ada-440a-c04a-ad775a856d11"
      },
      "source": [
        "df_weights.head(100)"
      ],
      "execution_count": 477,
      "outputs": [
        {
          "output_type": "execute_result",
          "data": {
            "text/html": [
              "<div>\n",
              "<style scoped>\n",
              "    .dataframe tbody tr th:only-of-type {\n",
              "        vertical-align: middle;\n",
              "    }\n",
              "\n",
              "    .dataframe tbody tr th {\n",
              "        vertical-align: top;\n",
              "    }\n",
              "\n",
              "    .dataframe thead th {\n",
              "        text-align: right;\n",
              "    }\n",
              "</style>\n",
              "<table border=\"1\" class=\"dataframe\">\n",
              "  <thead>\n",
              "    <tr style=\"text-align: right;\">\n",
              "      <th></th>\n",
              "      <th>ds</th>\n",
              "      <th>row_number</th>\n",
              "      <th>expert_cluster_1</th>\n",
              "      <th>expert_cluster_10</th>\n",
              "      <th>expert_cluster_2</th>\n",
              "      <th>expert_cluster_3</th>\n",
              "      <th>expert_cluster_4</th>\n",
              "      <th>expert_cluster_5</th>\n",
              "      <th>expert_cluster_6</th>\n",
              "      <th>expert_cluster_7</th>\n",
              "      <th>expert_cluster_8</th>\n",
              "      <th>expert_cluster_9</th>\n",
              "    </tr>\n",
              "  </thead>\n",
              "  <tbody>\n",
              "    <tr>\n",
              "      <th>0</th>\n",
              "      <td>2013-05-01 00:00:00</td>\n",
              "      <td>0</td>\n",
              "      <td>0.1</td>\n",
              "      <td>0.1</td>\n",
              "      <td>0.1</td>\n",
              "      <td>0.1</td>\n",
              "      <td>0.1</td>\n",
              "      <td>0.1</td>\n",
              "      <td>0.1</td>\n",
              "      <td>0.1</td>\n",
              "      <td>0.1</td>\n",
              "      <td>0.1</td>\n",
              "    </tr>\n",
              "    <tr>\n",
              "      <th>1</th>\n",
              "      <td>2013-05-01 00:30:00</td>\n",
              "      <td>1</td>\n",
              "      <td>0.1</td>\n",
              "      <td>0.1</td>\n",
              "      <td>0.1</td>\n",
              "      <td>0.1</td>\n",
              "      <td>0.1</td>\n",
              "      <td>0.1</td>\n",
              "      <td>0.1</td>\n",
              "      <td>0.1</td>\n",
              "      <td>0.1</td>\n",
              "      <td>0.1</td>\n",
              "    </tr>\n",
              "    <tr>\n",
              "      <th>2</th>\n",
              "      <td>2013-05-01 01:00:00</td>\n",
              "      <td>2</td>\n",
              "      <td>0.1</td>\n",
              "      <td>0.1</td>\n",
              "      <td>0.1</td>\n",
              "      <td>0.1</td>\n",
              "      <td>0.1</td>\n",
              "      <td>0.1</td>\n",
              "      <td>0.1</td>\n",
              "      <td>0.1</td>\n",
              "      <td>0.1</td>\n",
              "      <td>0.1</td>\n",
              "    </tr>\n",
              "    <tr>\n",
              "      <th>3</th>\n",
              "      <td>2013-05-01 01:30:00</td>\n",
              "      <td>3</td>\n",
              "      <td>0.1</td>\n",
              "      <td>0.1</td>\n",
              "      <td>0.1</td>\n",
              "      <td>0.1</td>\n",
              "      <td>0.1</td>\n",
              "      <td>0.1</td>\n",
              "      <td>0.1</td>\n",
              "      <td>0.1</td>\n",
              "      <td>0.1</td>\n",
              "      <td>0.1</td>\n",
              "    </tr>\n",
              "    <tr>\n",
              "      <th>4</th>\n",
              "      <td>2013-05-01 02:00:00</td>\n",
              "      <td>4</td>\n",
              "      <td>0.1</td>\n",
              "      <td>0.1</td>\n",
              "      <td>0.1</td>\n",
              "      <td>0.1</td>\n",
              "      <td>0.1</td>\n",
              "      <td>0.1</td>\n",
              "      <td>0.1</td>\n",
              "      <td>0.1</td>\n",
              "      <td>0.1</td>\n",
              "      <td>0.1</td>\n",
              "    </tr>\n",
              "    <tr>\n",
              "      <th>...</th>\n",
              "      <td>...</td>\n",
              "      <td>...</td>\n",
              "      <td>...</td>\n",
              "      <td>...</td>\n",
              "      <td>...</td>\n",
              "      <td>...</td>\n",
              "      <td>...</td>\n",
              "      <td>...</td>\n",
              "      <td>...</td>\n",
              "      <td>...</td>\n",
              "      <td>...</td>\n",
              "      <td>...</td>\n",
              "    </tr>\n",
              "    <tr>\n",
              "      <th>95</th>\n",
              "      <td>2013-05-02 23:30:00</td>\n",
              "      <td>95</td>\n",
              "      <td>0.1</td>\n",
              "      <td>0.1</td>\n",
              "      <td>0.1</td>\n",
              "      <td>0.1</td>\n",
              "      <td>0.1</td>\n",
              "      <td>0.1</td>\n",
              "      <td>0.1</td>\n",
              "      <td>0.1</td>\n",
              "      <td>0.1</td>\n",
              "      <td>0.1</td>\n",
              "    </tr>\n",
              "    <tr>\n",
              "      <th>96</th>\n",
              "      <td>2013-05-03 00:00:00</td>\n",
              "      <td>96</td>\n",
              "      <td>0.1</td>\n",
              "      <td>0.1</td>\n",
              "      <td>0.1</td>\n",
              "      <td>0.1</td>\n",
              "      <td>0.1</td>\n",
              "      <td>0.1</td>\n",
              "      <td>0.1</td>\n",
              "      <td>0.1</td>\n",
              "      <td>0.1</td>\n",
              "      <td>0.1</td>\n",
              "    </tr>\n",
              "    <tr>\n",
              "      <th>97</th>\n",
              "      <td>2013-05-03 00:30:00</td>\n",
              "      <td>97</td>\n",
              "      <td>0.1</td>\n",
              "      <td>0.1</td>\n",
              "      <td>0.1</td>\n",
              "      <td>0.1</td>\n",
              "      <td>0.1</td>\n",
              "      <td>0.1</td>\n",
              "      <td>0.1</td>\n",
              "      <td>0.1</td>\n",
              "      <td>0.1</td>\n",
              "      <td>0.1</td>\n",
              "    </tr>\n",
              "    <tr>\n",
              "      <th>98</th>\n",
              "      <td>2013-05-03 01:00:00</td>\n",
              "      <td>98</td>\n",
              "      <td>0.1</td>\n",
              "      <td>0.1</td>\n",
              "      <td>0.1</td>\n",
              "      <td>0.1</td>\n",
              "      <td>0.1</td>\n",
              "      <td>0.1</td>\n",
              "      <td>0.1</td>\n",
              "      <td>0.1</td>\n",
              "      <td>0.1</td>\n",
              "      <td>0.1</td>\n",
              "    </tr>\n",
              "    <tr>\n",
              "      <th>99</th>\n",
              "      <td>2013-05-03 01:30:00</td>\n",
              "      <td>99</td>\n",
              "      <td>0.1</td>\n",
              "      <td>0.1</td>\n",
              "      <td>0.1</td>\n",
              "      <td>0.1</td>\n",
              "      <td>0.1</td>\n",
              "      <td>0.1</td>\n",
              "      <td>0.1</td>\n",
              "      <td>0.1</td>\n",
              "      <td>0.1</td>\n",
              "      <td>0.1</td>\n",
              "    </tr>\n",
              "  </tbody>\n",
              "</table>\n",
              "<p>100 rows × 12 columns</p>\n",
              "</div>"
            ],
            "text/plain": [
              "                    ds  row_number  ...  expert_cluster_8  expert_cluster_9\n",
              "0  2013-05-01 00:00:00           0  ...               0.1               0.1\n",
              "1  2013-05-01 00:30:00           1  ...               0.1               0.1\n",
              "2  2013-05-01 01:00:00           2  ...               0.1               0.1\n",
              "3  2013-05-01 01:30:00           3  ...               0.1               0.1\n",
              "4  2013-05-01 02:00:00           4  ...               0.1               0.1\n",
              "..                 ...         ...  ...               ...               ...\n",
              "95 2013-05-02 23:30:00          95  ...               0.1               0.1\n",
              "96 2013-05-03 00:00:00          96  ...               0.1               0.1\n",
              "97 2013-05-03 00:30:00          97  ...               0.1               0.1\n",
              "98 2013-05-03 01:00:00          98  ...               0.1               0.1\n",
              "99 2013-05-03 01:30:00          99  ...               0.1               0.1\n",
              "\n",
              "[100 rows x 12 columns]"
            ]
          },
          "metadata": {
            "tags": []
          },
          "execution_count": 477
        }
      ]
    },
    {
      "cell_type": "code",
      "metadata": {
        "id": "DwDT0V_hlwj4",
        "colab_type": "code",
        "colab": {}
      },
      "source": [
        ""
      ],
      "execution_count": null,
      "outputs": []
    }
  ]
}